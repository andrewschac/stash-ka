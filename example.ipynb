{
 "cells": [
  {
   "cell_type": "markdown",
   "id": "5c3a2611-06dd-4053-b069-41383934eb06",
   "metadata": {},
   "source": [
    "# This is my sample .ipynb file!\n",
    "This could be your analyses files, your visualization files, etc."
   ]
  },
  {
   "cell_type": "code",
   "execution_count": 1,
   "id": "b547b91b-0694-45f7-8af7-8aa6b9ffd2f2",
   "metadata": {},
   "outputs": [],
   "source": [
    "import pandas as pd\n",
    "import os\n",
    "import numpy as np\n",
    "import matplotlib.pyplot as plt\n",
    "import pandas_datareader as pdr\n",
    "import seaborn as sns\n",
    "from tqdm import tqdm\n",
    "import re\n",
    "\n"
   ]
  },
  {
   "cell_type": "code",
   "execution_count": 2,
   "id": "291f8224-eda6-4cf5-8a4d-16568fd04256",
   "metadata": {},
   "outputs": [
    {
     "name": "stdout",
     "output_type": "stream",
     "text": [
      "<class 'pandas.core.frame.DataFrame'>\n",
      "RangeIndex: 479 entries, 0 to 478\n",
      "Data columns (total 24 columns):\n",
      " #   Column                       Non-Null Count  Dtype  \n",
      "---  ------                       --------------  -----  \n",
      " 0   Series ID                    479 non-null    object \n",
      " 1   Series title                 479 non-null    object \n",
      " 2   Year                         479 non-null    int64  \n",
      " 3   Estimate                     479 non-null    object \n",
      " 4   Estimate footnote            4 non-null      float64\n",
      " 5   Standard error               479 non-null    float64\n",
      " 6   Standard error footnote      0 non-null      float64\n",
      " 7   Survey code                  479 non-null    object \n",
      " 8   Survey text                  479 non-null    object \n",
      " 9   Ownership code               479 non-null    int64  \n",
      " 10  Ownership text               479 non-null    object \n",
      " 11  Industry code                479 non-null    object \n",
      " 12  Industry text                479 non-null    object \n",
      " 13  Occupation code              479 non-null    int64  \n",
      " 14  Occupation text              479 non-null    object \n",
      " 15  Subcell code                 479 non-null    int64  \n",
      " 16  Job characteristic category  479 non-null    object \n",
      " 17  Job characteristic           479 non-null    object \n",
      " 18  Estimate code                479 non-null    int64  \n",
      " 19  Estimate text                479 non-null    object \n",
      " 20  Datatype code                479 non-null    int64  \n",
      " 21  Datatype text                479 non-null    object \n",
      " 22  Provision code               479 non-null    int64  \n",
      " 23  Provision text               479 non-null    object \n",
      "dtypes: float64(3), int64(7), object(14)\n",
      "memory usage: 89.9+ KB\n"
     ]
    }
   ],
   "source": [
    "test = pd.read_csv('../stash-ka/inputs/employee_benefits.csv')\n",
    "test.info()\n",
    "test.rename(columns = {'Series title ':'Industry'}, inplace = True)\n",
    "test.rename(columns = {'Estimate':'% with access to \"flexible workplace\"'}, inplace = True)"
   ]
  },
  {
   "cell_type": "code",
   "execution_count": 3,
   "id": "cf25c2a0-9d9b-4f55-ae02-07ac46ba5d40",
   "metadata": {},
   "outputs": [],
   "source": [
    "industry_name_list=[]\n",
    "\n",
    "for industry in test['Industry']:\n",
    "    industry_name = industry.split('in ')[1].capitalize()\n",
    "    industry_name_list.append(industry_name)\n",
    "    \n",
    "    \n",
    "test['Industry'] = industry_name_list"
   ]
  },
  {
   "cell_type": "code",
   "execution_count": 4,
   "id": "7d716575-4ade-4531-a0a3-03dbb141f76a",
   "metadata": {},
   "outputs": [],
   "source": [
    "turnover = pd.read_csv('../stash-ka/inputs/turnover.csv')"
   ]
  },
  {
   "cell_type": "code",
   "execution_count": 5,
   "id": "f1ee8a20-7369-409f-85b3-9db3e24146e6",
   "metadata": {},
   "outputs": [
    {
     "name": "stdout",
     "output_type": "stream",
     "text": [
      "<class 'pandas.core.frame.DataFrame'>\n",
      "RangeIndex: 351 entries, 0 to 350\n",
      "Data columns (total 3 columns):\n",
      " #   Column     Non-Null Count  Dtype  \n",
      "---  ------     --------------  -----  \n",
      " 0   Year       351 non-null    int64  \n",
      " 1   Series Id  351 non-null    object \n",
      " 2   Value      351 non-null    float64\n",
      "dtypes: float64(1), int64(1), object(1)\n",
      "memory usage: 8.4+ KB\n"
     ]
    },
    {
     "data": {
      "text/html": [
       "<div>\n",
       "<style scoped>\n",
       "    .dataframe tbody tr th:only-of-type {\n",
       "        vertical-align: middle;\n",
       "    }\n",
       "\n",
       "    .dataframe tbody tr th {\n",
       "        vertical-align: top;\n",
       "    }\n",
       "\n",
       "    .dataframe thead th {\n",
       "        text-align: right;\n",
       "    }\n",
       "</style>\n",
       "<table border=\"1\" class=\"dataframe\">\n",
       "  <thead>\n",
       "    <tr style=\"text-align: right;\">\n",
       "      <th></th>\n",
       "      <th>Year</th>\n",
       "      <th>Series Id</th>\n",
       "      <th>quit_rate</th>\n",
       "    </tr>\n",
       "  </thead>\n",
       "  <tbody>\n",
       "    <tr>\n",
       "      <th>0</th>\n",
       "      <td>2010</td>\n",
       "      <td>Total Private</td>\n",
       "      <td>1.6</td>\n",
       "    </tr>\n",
       "    <tr>\n",
       "      <th>1</th>\n",
       "      <td>2011</td>\n",
       "      <td>Total Private</td>\n",
       "      <td>1.7</td>\n",
       "    </tr>\n",
       "    <tr>\n",
       "      <th>2</th>\n",
       "      <td>2012</td>\n",
       "      <td>Total Private</td>\n",
       "      <td>1.7</td>\n",
       "    </tr>\n",
       "    <tr>\n",
       "      <th>3</th>\n",
       "      <td>2013</td>\n",
       "      <td>Total Private</td>\n",
       "      <td>1.9</td>\n",
       "    </tr>\n",
       "    <tr>\n",
       "      <th>4</th>\n",
       "      <td>2014</td>\n",
       "      <td>Total Private</td>\n",
       "      <td>2.0</td>\n",
       "    </tr>\n",
       "    <tr>\n",
       "      <th>...</th>\n",
       "      <td>...</td>\n",
       "      <td>...</td>\n",
       "      <td>...</td>\n",
       "    </tr>\n",
       "    <tr>\n",
       "      <th>346</th>\n",
       "      <td>2018</td>\n",
       "      <td>State and local government education, excludin...</td>\n",
       "      <td>0.8</td>\n",
       "    </tr>\n",
       "    <tr>\n",
       "      <th>347</th>\n",
       "      <td>2019</td>\n",
       "      <td>State and local government education, excludin...</td>\n",
       "      <td>0.8</td>\n",
       "    </tr>\n",
       "    <tr>\n",
       "      <th>348</th>\n",
       "      <td>2020</td>\n",
       "      <td>State and local government education, excludin...</td>\n",
       "      <td>0.8</td>\n",
       "    </tr>\n",
       "    <tr>\n",
       "      <th>349</th>\n",
       "      <td>2021</td>\n",
       "      <td>State and local government education, excludin...</td>\n",
       "      <td>1.0</td>\n",
       "    </tr>\n",
       "    <tr>\n",
       "      <th>350</th>\n",
       "      <td>2022</td>\n",
       "      <td>State and local government education, excludin...</td>\n",
       "      <td>1.1</td>\n",
       "    </tr>\n",
       "  </tbody>\n",
       "</table>\n",
       "<p>351 rows × 3 columns</p>\n",
       "</div>"
      ],
      "text/plain": [
       "     Year                                          Series Id  quit_rate\n",
       "0    2010                                      Total Private        1.6\n",
       "1    2011                                      Total Private        1.7\n",
       "2    2012                                      Total Private        1.7\n",
       "3    2013                                      Total Private        1.9\n",
       "4    2014                                      Total Private        2.0\n",
       "..    ...                                                ...        ...\n",
       "346  2018  State and local government education, excludin...        0.8\n",
       "347  2019  State and local government education, excludin...        0.8\n",
       "348  2020  State and local government education, excludin...        0.8\n",
       "349  2021  State and local government education, excludin...        1.0\n",
       "350  2022  State and local government education, excludin...        1.1\n",
       "\n",
       "[351 rows x 3 columns]"
      ]
     },
     "execution_count": 5,
     "metadata": {},
     "output_type": "execute_result"
    }
   ],
   "source": [
    "turnover.info()\n",
    "turnover.rename(columns = {'Series title ':'Industry'}, inplace = True)\n",
    "turnover.rename(columns = {'Value':'quit_rate'}, inplace = True)\n",
    "turnover"
   ]
  }
 ],
 "metadata": {
  "kernelspec": {
   "display_name": "Python 3 (ipykernel)",
   "language": "python",
   "name": "python3"
  },
  "language_info": {
   "codemirror_mode": {
    "name": "ipython",
    "version": 3
   },
   "file_extension": ".py",
   "mimetype": "text/x-python",
   "name": "python",
   "nbconvert_exporter": "python",
   "pygments_lexer": "ipython3",
   "version": "3.9.16"
  }
 },
 "nbformat": 4,
 "nbformat_minor": 5
}
